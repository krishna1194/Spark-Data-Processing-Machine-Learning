{
  "cells": [
    {
      "cell_type": "markdown",
      "source": [
        "## Install PySpark Dependencies"
      ],
      "metadata": {
        "id": "SGtCsRbWaide"
      },
      "id": "SGtCsRbWaide"
    },
    {
      "cell_type": "code",
      "source": [
        "# Install Spark dependencies\n",
        "!apt-get install openjdk-8-jdk-headless -qq > /dev/null\n",
        "!rm spark-3.2.3-bin-hadoop3.2.tgz\n",
        "!wget --no-cookies --no-check-certificate https://dlcdn.apache.org/spark/spark-3.2.3/spark-3.2.3-bin-hadoop3.2.tgz\n",
        "!tar zxvf spark-3.2.3-bin-hadoop3.2.tgz\n",
        "!pip install -q findspark\n",
        "!pip install pyspark==3.2.3"
      ],
      "metadata": {
        "id": "kfBynCl-HbJn"
      },
      "id": "kfBynCl-HbJn",
      "execution_count": null,
      "outputs": []
    },
    {
      "cell_type": "code",
      "source": [
        "!ls -al | grep spark"
      ],
      "metadata": {
        "colab": {
          "base_uri": "https://localhost:8080/"
        },
        "id": "xdAP4mxNH3Hw",
        "outputId": "2acd743c-df58-4ff4-fc81-72a159eae5e5"
      },
      "id": "xdAP4mxNH3Hw",
      "execution_count": 2,
      "outputs": [
        {
          "output_type": "stream",
          "name": "stdout",
          "text": [
            "drwxr-xr-x 13  501 1000      4096 Nov 14 17:54 spark-3.2.3-bin-hadoop3.2\n",
            "-rw-r--r--  1 root root 301136158 Nov 14 18:47 spark-3.2.3-bin-hadoop3.2.tgz\n"
          ]
        }
      ]
    },
    {
      "cell_type": "markdown",
      "source": [
        "## Load Data"
      ],
      "metadata": {
        "id": "UcRg6tEVamYI"
      },
      "id": "UcRg6tEVamYI"
    },
    {
      "cell_type": "code",
      "execution_count": null,
      "id": "eda3362c-a753-4d36-a53d-a0f5db6827a6",
      "metadata": {
        "tags": [],
        "id": "eda3362c-a753-4d36-a53d-a0f5db6827a6"
      },
      "outputs": [],
      "source": [
        "!wget https://raw.githubusercontent.com/zaratsian/Datasets/master/banking_attrition.csv"
      ]
    },
    {
      "cell_type": "markdown",
      "source": [
        "## Import Python / Spark Libraries"
      ],
      "metadata": {
        "id": "cAjSkDp9aqTk"
      },
      "id": "cAjSkDp9aqTk"
    },
    {
      "cell_type": "code",
      "execution_count": 9,
      "id": "e2de9ccb-c60b-46bf-966b-2e5c4feb4b37",
      "metadata": {
        "tags": [],
        "id": "e2de9ccb-c60b-46bf-966b-2e5c4feb4b37"
      },
      "outputs": [],
      "source": [
        "import os\n",
        "os.environ[\"JAVA_HOME\"]  = \"/usr/lib/jvm/java-8-openjdk-amd64\"\n",
        "os.environ[\"SPARK_HOME\"] = \"/content/spark-3.2.3-bin-hadoop3.2\"\n",
        "\n",
        "import datetime, time\n",
        "import re, random, sys\n",
        "import matplotlib.pyplot as plt\n",
        "import numpy as np\n",
        "import pandas as pd\n",
        "import seaborn as sns\n",
        "\n",
        "\n",
        "from pyspark import SparkContext\n",
        "from pyspark.sql import SparkSession\n",
        "from pyspark.sql.types import T, StructType, StructField, ArrayType, IntegerType, StringType, FloatType, LongType, DateType, DoubleType\n",
        "from pyspark.sql.functions import struct, array, lit, monotonically_increasing_id, col, expr, when, concat, udf, split, size, lag, count, isnull, rand, countDistinct, F\n",
        "from pyspark.sql import Window\n",
        "from pyspark.ml.linalg import Vectors\n",
        "from pyspark.ml.classification import GBTClassifier, RandomForestClassifier\n",
        "from pyspark.ml.feature import VectorIndexer, VectorAssembler, StringIndexer, IndexToString, OneHotEncoder\n",
        "from pyspark.ml import Pipeline, PipelineModel\n",
        "from pyspark.ml.evaluation import MulticlassClassificationEvaluator, RegressionEvaluator\n",
        "from pyspark.sql.functions import sum as Fsum\n",
        "from pyspark.sql.window import Window\n",
        "from pyspark.ml.clustering import KMeans\n",
        "from pyspark.ml.evaluation import ClusteringEvaluator\n",
        "from pyspark.ml.feature import StandardScaler"
      ]
    },
    {
      "cell_type": "markdown",
      "source": [
        "## Create Spark Session"
      ],
      "metadata": {
        "id": "_KQRDltbaszY"
      },
      "id": "_KQRDltbaszY"
    },
    {
      "cell_type": "code",
      "execution_count": 78,
      "id": "158084d4-2978-49cf-a602-f8f65a5d91ec",
      "metadata": {
        "tags": [],
        "id": "158084d4-2978-49cf-a602-f8f65a5d91ec"
      },
      "outputs": [],
      "source": [
        "spark = SparkSession.builder.appName(\"Spark ML Assignment\").master(\"local[*]\").getOrCreate()"
      ]
    },
    {
      "cell_type": "markdown",
      "source": [
        "## Load CSV Data into Spark Dataframe"
      ],
      "metadata": {
        "id": "YQLc_wONICDt"
      },
      "id": "YQLc_wONICDt"
    },
    {
      "cell_type": "code",
      "execution_count": 79,
      "id": "435ea1d4-3279-4759-a8cf-a79c397046f7",
      "metadata": {
        "tags": [],
        "id": "435ea1d4-3279-4759-a8cf-a79c397046f7"
      },
      "outputs": [],
      "source": [
        "# load the data to Spark dataframe\n",
        "df= spark.read.load(\"banking_attrition.csv\", format=\"csv\", header=True, inferSchema=True)"
      ]
    },
    {
      "cell_type": "code",
      "source": [
        "from pyspark.sql import DataFrame\n",
        "if isinstance(df, DataFrame):\n",
        "    print(\"The variable 'df' is a Spark DataFrame.\")\n",
        "else:\n",
        "    print(\"The variable 'df' is not a Spark DataFrame.\")"
      ],
      "metadata": {
        "colab": {
          "base_uri": "https://localhost:8080/"
        },
        "id": "m2HEHpgLd4x3",
        "outputId": "150de399-9bc5-41a3-cedf-56e495e0587f"
      },
      "id": "m2HEHpgLd4x3",
      "execution_count": 80,
      "outputs": [
        {
          "output_type": "stream",
          "name": "stdout",
          "text": [
            "The variable 'df' is a Spark DataFrame.\n"
          ]
        }
      ]
    },
    {
      "cell_type": "code",
      "execution_count": 81,
      "id": "5555d183-19fc-4be4-9331-bf7228a17a22",
      "metadata": {
        "tags": [],
        "colab": {
          "base_uri": "https://localhost:8080/"
        },
        "id": "5555d183-19fc-4be4-9331-bf7228a17a22",
        "outputId": "73e93d87-87a2-4410-fd20-b6ec7fa456f8"
      },
      "outputs": [
        {
          "output_type": "stream",
          "name": "stdout",
          "text": [
            "+-------+---+---------+--------------+--------------+-----------+-------+-------+----+------+-------------+----------+-------+-----------------+---------+\n",
            "|uid    |age|age_group|profession    |marital_status|education  |default|housing|loan|gender|balance      |membership|charges|customer_contacts|attrition|\n",
            "+-------+---+---------+--------------+--------------+-----------+-------+-------+----+------+-------------+----------+-------+-----------------+---------+\n",
            "|1000001|69 |60s      |retired       |married       |high school|no     |no     |no  |female|$50k - $100k |gold      |74     |5                |0        |\n",
            "|1000002|46 |40s      |management    |married       |high school|yes    |no     |no  |male  |$10k - $50k  |silver    |149    |1                |0        |\n",
            "|1000003|45 |40s      |management    |married       |high school|no     |no     |no  |female|$100k - $250k|platinum  |58     |5                |1        |\n",
            "|1000004|54 |50s      |administration|divorced      |graduate   |no     |yes    |no  |female|$10k - $50k  |silver    |317    |4                |1        |\n",
            "|1000005|36 |30s      |management    |single        |high school|no     |yes    |no  |male  |$50k - $100k |gold      |139    |8                |0        |\n",
            "+-------+---+---------+--------------+--------------+-----------+-------+-------+----+------+-------------+----------+-------+-----------------+---------+\n",
            "only showing top 5 rows\n",
            "\n"
          ]
        }
      ],
      "source": [
        "# display the dataset\n",
        "df.show(5,False)"
      ]
    },
    {
      "cell_type": "code",
      "source": [
        "# check fundamentals\n",
        "df.printSchema()"
      ],
      "metadata": {
        "colab": {
          "base_uri": "https://localhost:8080/"
        },
        "id": "UrJglD2YZjMw",
        "outputId": "f7cea61b-7c5b-49c9-f7dc-749690313c22"
      },
      "id": "UrJglD2YZjMw",
      "execution_count": 82,
      "outputs": [
        {
          "output_type": "stream",
          "name": "stdout",
          "text": [
            "root\n",
            " |-- uid: integer (nullable = true)\n",
            " |-- age: integer (nullable = true)\n",
            " |-- age_group: string (nullable = true)\n",
            " |-- profession: string (nullable = true)\n",
            " |-- marital_status: string (nullable = true)\n",
            " |-- education: string (nullable = true)\n",
            " |-- default: string (nullable = true)\n",
            " |-- housing: string (nullable = true)\n",
            " |-- loan: string (nullable = true)\n",
            " |-- gender: string (nullable = true)\n",
            " |-- balance: string (nullable = true)\n",
            " |-- membership: string (nullable = true)\n",
            " |-- charges: integer (nullable = true)\n",
            " |-- customer_contacts: integer (nullable = true)\n",
            " |-- attrition: integer (nullable = true)\n",
            "\n"
          ]
        }
      ]
    },
    {
      "cell_type": "markdown",
      "source": [
        "##Data Exploration"
      ],
      "metadata": {
        "id": "m_Wim0l3IIr_"
      },
      "id": "m_Wim0l3IIr_"
    },
    {
      "cell_type": "code",
      "source": [
        "# understand unique counts in dataframe\n",
        "df.select(*(countDistinct(col(c)).alias(c) for c in df.columns)).show()"
      ],
      "metadata": {
        "colab": {
          "base_uri": "https://localhost:8080/"
        },
        "id": "C1nvW0-gbOxo",
        "outputId": "72a066ec-9b3a-4050-e756-a6a230e9fb09"
      },
      "id": "C1nvW0-gbOxo",
      "execution_count": 83,
      "outputs": [
        {
          "output_type": "stream",
          "name": "stdout",
          "text": [
            "+-----+---+---------+----------+--------------+---------+-------+-------+----+------+-------+----------+-------+-----------------+---------+\n",
            "|  uid|age|age_group|profession|marital_status|education|default|housing|loan|gender|balance|membership|charges|customer_contacts|attrition|\n",
            "+-----+---+---------+----------+--------------+---------+-------+-------+----+------+-------+----------+-------+-----------------+---------+\n",
            "|45211| 76|        9|        12|             3|        4|      2|      2|   2|     2|      5|         3|    348|               10|        2|\n",
            "+-----+---+---------+----------+--------------+---------+-------+-------+----+------+-------+----------+-------+-----------------+---------+\n",
            "\n"
          ]
        }
      ]
    },
    {
      "cell_type": "code",
      "source": [
        "# Category Variables\n",
        "categorical_columns = [c[0] for c in df.dtypes if c[1] in ['string']]\n",
        "[df.select(df[c]).groupBy(df[c]).count().show(5,False) for c in categorical_columns]"
      ],
      "metadata": {
        "colab": {
          "base_uri": "https://localhost:8080/"
        },
        "id": "mNU4ZausbJ32",
        "outputId": "ab810e2f-c614-4cf7-b41a-c439f4be9868"
      },
      "id": "mNU4ZausbJ32",
      "execution_count": 84,
      "outputs": [
        {
          "output_type": "stream",
          "name": "stdout",
          "text": [
            "+---------+-----+\n",
            "|age_group|count|\n",
            "+---------+-----+\n",
            "|40s      |9748 |\n",
            "|80s      |107  |\n",
            "|70s      |362  |\n",
            "|90s      |6    |\n",
            "|20s      |8044 |\n",
            "+---------+-----+\n",
            "only showing top 5 rows\n",
            "\n",
            "+--------------+-----+\n",
            "|profession    |count|\n",
            "+--------------+-----+\n",
            "|management    |8406 |\n",
            "|retired       |2061 |\n",
            "|unknown       |275  |\n",
            "|administration|6640 |\n",
            "|executive     |1165 |\n",
            "+--------------+-----+\n",
            "only showing top 5 rows\n",
            "\n",
            "+--------------+-----+\n",
            "|marital_status|count|\n",
            "+--------------+-----+\n",
            "|divorced      |11213|\n",
            "|married       |20043|\n",
            "|single        |13955|\n",
            "+--------------+-----+\n",
            "\n",
            "+-----------+-----+\n",
            "|education  |count|\n",
            "+-----------+-----+\n",
            "|graduate   |26508|\n",
            "|college    |4931 |\n",
            "|unknown    |1342 |\n",
            "|high school|12430|\n",
            "+-----------+-----+\n",
            "\n",
            "+-------+-----+\n",
            "|default|count|\n",
            "+-------+-----+\n",
            "|no     |44396|\n",
            "|yes    |815  |\n",
            "+-------+-----+\n",
            "\n",
            "+-------+-----+\n",
            "|housing|count|\n",
            "+-------+-----+\n",
            "|no     |20081|\n",
            "|yes    |25130|\n",
            "+-------+-----+\n",
            "\n",
            "+----+-----+\n",
            "|loan|count|\n",
            "+----+-----+\n",
            "|no  |37967|\n",
            "|yes |7244 |\n",
            "+----+-----+\n",
            "\n",
            "+------+-----+\n",
            "|gender|count|\n",
            "+------+-----+\n",
            "|female|25594|\n",
            "|male  |19617|\n",
            "+------+-----+\n",
            "\n",
            "+-------------+-----+\n",
            "|balance      |count|\n",
            "+-------------+-----+\n",
            "|$10k - $50k  |10346|\n",
            "|$50k - $100k |9969 |\n",
            "|Over $250k   |12161|\n",
            "|$100k - $250k|10241|\n",
            "|Under $10k   |2494 |\n",
            "+-------------+-----+\n",
            "\n",
            "+----------+-----+\n",
            "|membership|count|\n",
            "+----------+-----+\n",
            "|silver    |12840|\n",
            "|gold      |9969 |\n",
            "|platinum  |22402|\n",
            "+----------+-----+\n",
            "\n"
          ]
        },
        {
          "output_type": "execute_result",
          "data": {
            "text/plain": [
              "[None, None, None, None, None, None, None, None, None, None]"
            ]
          },
          "metadata": {},
          "execution_count": 84
        }
      ]
    },
    {
      "cell_type": "code",
      "source": [
        "# Numerical Variables\n",
        "num_cols = [c for c, t in df.dtypes if t != \"string\"]\n",
        "\n",
        "# plot histograms for all numerical columns\n",
        "for col_name in num_cols:\n",
        "    data = df.select(col(col_name)).rdd.flatMap(lambda x: x).collect()\n",
        "    plt.hist(data, bins=15)\n",
        "    plt.title(col_name)\n",
        "    plt.show()"
      ],
      "metadata": {
        "colab": {
          "base_uri": "https://localhost:8080/",
          "height": 1000
        },
        "id": "x12d7w4TbnuQ",
        "outputId": "caa103e1-3ba3-43e8-d804-da0a01bd68bf"
      },
      "id": "x12d7w4TbnuQ",
      "execution_count": 85,
      "outputs": [
        {
          "output_type": "display_data",
          "data": {
            "text/plain": [
              "<Figure size 432x288 with 1 Axes>"
            ],
            "image/png": "[encoded data removed]"
          },
          "metadata": {
            "needs_background": "light"
          }
        },
        {
          "output_type": "display_data",
          "data": {
            "text/plain": [
              "<Figure size 432x288 with 1 Axes>"
            ],
            "image/png": "[encoded data removed]"
          },
          "metadata": {
            "needs_background": "light"
          }
        },
        {
          "output_type": "display_data",
          "data": {
            "text/plain": [
              "<Figure size 432x288 with 1 Axes>"
            ],
            "image/png": "[encoded data removed]"
          },
          "metadata": {
            "needs_background": "light"
          }
        },
        {
          "output_type": "display_data",
          "data": {
            "text/plain": [
              "<Figure size 432x288 with 1 Axes>"
            ],
            "image/png": "[encoded data removed]"
          },
          "metadata": {
            "needs_background": "light"
          }
        },
        {
          "output_type": "display_data",
          "data": {
            "text/plain": [
              "<Figure size 432x288 with 1 Axes>"
            ],
            "image/png": "[encoded data removed]"
          },
          "metadata": {
            "needs_background": "light"
          }
        }
      ]
    },
    {
      "cell_type": "code",
      "source": [
        "# Classes Ratio on target variable\n",
        "df.groupBy('attrition').count().show()\n",
        "print(\"\\n\")\n",
        "df.groupBy('attrition').count().withColumn('percentage', F.col('count')/Fsum('count').over(Window.partitionBy())).show()"
      ],
      "metadata": {
        "colab": {
          "base_uri": "https://localhost:8080/"
        },
        "id": "arJlzXIocKj9",
        "outputId": "ec16eff6-dbc2-4c1f-c700-8f0276ea2a95"
      },
      "id": "arJlzXIocKj9",
      "execution_count": 86,
      "outputs": [
        {
          "output_type": "stream",
          "name": "stdout",
          "text": [
            "+---------+-----+\n",
            "|attrition|count|\n",
            "+---------+-----+\n",
            "|        1|10200|\n",
            "|        0|35011|\n",
            "+---------+-----+\n",
            "\n",
            "\n",
            "\n",
            "+---------+-----+-------------------+\n",
            "|attrition|count|         percentage|\n",
            "+---------+-----+-------------------+\n",
            "|        1|10200|0.22560881201477517|\n",
            "|        0|35011| 0.7743911879852249|\n",
            "+---------+-----+-------------------+\n",
            "\n"
          ]
        }
      ]
    },
    {
      "cell_type": "code",
      "source": [
        "# Caregorical with Target variable\n",
        "df.groupby(['age_group','attrition']).count().sort(['age_group','attrition']).show(),\n",
        "df.groupby(['profession','attrition']).count().sort(['profession','attrition']).show(),\n",
        "df.groupby(['marital_status','attrition']).count().sort(['marital_status','attrition']).show(),\n",
        "df.groupby(['education','attrition']).count().sort(['education','attrition']).show(),\n",
        "df.groupby(['default','attrition']).count().sort(['default','attrition']).show(),\n",
        "df.groupby(['housing','attrition']).count().sort(['housing','attrition']).show(),\n",
        "df.groupby(['loan','attrition']).count().sort(['loan','attrition']).show(),\n",
        "df.groupby(['gender','attrition']).count().sort(['gender','attrition']).show(),\n",
        "df.groupby(['balance','attrition']).count().sort(['balance','attrition']).show(),\n",
        "df.groupby(['membership','attrition']).count().sort(['membership','attrition']).show()"
      ],
      "metadata": {
        "colab": {
          "base_uri": "https://localhost:8080/"
        },
        "id": "gPghMRsncDCK",
        "outputId": "53bf7102-9ea5-437a-bddc-d790d73cca7d"
      },
      "id": "gPghMRsncDCK",
      "execution_count": 87,
      "outputs": [
        {
          "output_type": "stream",
          "name": "stdout",
          "text": [
            "+---------+---------+-----+\n",
            "|age_group|attrition|count|\n",
            "+---------+---------+-----+\n",
            "|      20s|        0| 3887|\n",
            "|      20s|        1| 4157|\n",
            "|      30s|        0|13539|\n",
            "|      30s|        1|  861|\n",
            "|      40s|        0| 9156|\n",
            "|      40s|        1|  592|\n",
            "|      50s|        0| 6948|\n",
            "|      50s|        1| 4469|\n",
            "|      60s|        0| 1000|\n",
            "|      60s|        1|   91|\n",
            "|      70s|        0|  341|\n",
            "|      70s|        1|   21|\n",
            "|      80s|        0|  103|\n",
            "|      80s|        1|    4|\n",
            "|      90s|        0|    5|\n",
            "|      90s|        1|    1|\n",
            "|      U20|        0|   32|\n",
            "|      U20|        1|    4|\n",
            "+---------+---------+-----+\n",
            "\n",
            "+--------------+---------+-----+\n",
            "|    profession|attrition|count|\n",
            "+--------------+---------+-----+\n",
            "|administration|        0| 3833|\n",
            "|administration|        1| 2807|\n",
            "|    consulting|        0| 3062|\n",
            "|    consulting|        1|  530|\n",
            "|  entrepreneur|        0| 1173|\n",
            "|  entrepreneur|        1|  156|\n",
            "|     executive|        0| 1055|\n",
            "|     executive|        1|  110|\n",
            "|    management|        0| 7558|\n",
            "|    management|        1|  848|\n",
            "| manufacturing|        0| 6981|\n",
            "| manufacturing|        1| 1390|\n",
            "|       retired|        0| 1891|\n",
            "|       retired|        1|  170|\n",
            "| self_employed|        0| 1268|\n",
            "| self_employed|        1|  138|\n",
            "|       student|        0|  674|\n",
            "|       student|        1|   99|\n",
            "|    technician|        0| 6106|\n",
            "|    technician|        1|  701|\n",
            "+--------------+---------+-----+\n",
            "only showing top 20 rows\n",
            "\n",
            "+--------------+---------+-----+\n",
            "|marital_status|attrition|count|\n",
            "+--------------+---------+-----+\n",
            "|      divorced|        0| 3078|\n",
            "|      divorced|        1| 8135|\n",
            "|       married|        0|18833|\n",
            "|       married|        1| 1210|\n",
            "|        single|        0|13100|\n",
            "|        single|        1|  855|\n",
            "+--------------+---------+-----+\n",
            "\n",
            "+-----------+---------+-----+\n",
            "|  education|attrition|count|\n",
            "+-----------+---------+-----+\n",
            "|    college|        0| 3518|\n",
            "|    college|        1| 1413|\n",
            "|   graduate|        0|20559|\n",
            "|   graduate|        1| 5949|\n",
            "|high school|        0| 9873|\n",
            "|high school|        1| 2557|\n",
            "|    unknown|        0| 1061|\n",
            "|    unknown|        1|  281|\n",
            "+-----------+---------+-----+\n",
            "\n",
            "+-------+---------+-----+\n",
            "|default|attrition|count|\n",
            "+-------+---------+-----+\n",
            "|     no|        0|34318|\n",
            "|     no|        1|10078|\n",
            "|    yes|        0|  693|\n",
            "|    yes|        1|  122|\n",
            "+-------+---------+-----+\n",
            "\n",
            "+-------+---------+-----+\n",
            "|housing|attrition|count|\n",
            "+-------+---------+-----+\n",
            "|     no|        0|17487|\n",
            "|     no|        1| 2594|\n",
            "|    yes|        0|17524|\n",
            "|    yes|        1| 7606|\n",
            "+-------+---------+-----+\n",
            "\n",
            "+----+---------+-----+\n",
            "|loan|attrition|count|\n",
            "+----+---------+-----+\n",
            "|  no|        0|29214|\n",
            "|  no|        1| 8753|\n",
            "| yes|        0| 5797|\n",
            "| yes|        1| 1447|\n",
            "+----+---------+-----+\n",
            "\n",
            "+------+---------+-----+\n",
            "|gender|attrition|count|\n",
            "+------+---------+-----+\n",
            "|female|        0|17586|\n",
            "|female|        1| 8008|\n",
            "|  male|        0|17425|\n",
            "|  male|        1| 2192|\n",
            "+------+---------+-----+\n",
            "\n",
            "+-------------+---------+-----+\n",
            "|      balance|attrition|count|\n",
            "+-------------+---------+-----+\n",
            "|$100k - $250k|        0| 9236|\n",
            "|$100k - $250k|        1| 1005|\n",
            "|  $10k - $50k|        0| 7325|\n",
            "|  $10k - $50k|        1| 3021|\n",
            "| $50k - $100k|        0| 7467|\n",
            "| $50k - $100k|        1| 2502|\n",
            "|   Over $250k|        0|10910|\n",
            "|   Over $250k|        1| 1251|\n",
            "|   Under $10k|        0|   73|\n",
            "|   Under $10k|        1| 2421|\n",
            "+-------------+---------+-----+\n",
            "\n",
            "+----------+---------+-----+\n",
            "|membership|attrition|count|\n",
            "+----------+---------+-----+\n",
            "|      gold|        0| 7467|\n",
            "|      gold|        1| 2502|\n",
            "|  platinum|        0|20146|\n",
            "|  platinum|        1| 2256|\n",
            "|    silver|        0| 7398|\n",
            "|    silver|        1| 5442|\n",
            "+----------+---------+-----+\n",
            "\n"
          ]
        }
      ]
    },
    {
      "cell_type": "code",
      "source": [
        "# Define the columns to encode\n",
        "columns_to_encode = [\"age_group\", \"profession\", \"marital_status\", \"education\", \"default\", \"housing\", \"loan\", \"gender\", \"balance\", \"membership\"]\n",
        "\n",
        "# Apply string indexing to the columns to encode\n",
        "indexers = [StringIndexer(inputCol=column, outputCol=f\"{column}_indexed\") for column in columns_to_encode]\n",
        "indexed = indexers[0].fit(df).transform(df)\n",
        "for indexer in indexers[1:]:\n",
        "    indexed = indexer.fit(indexed).transform(indexed)\n",
        "\n",
        "# Apply one-hot encoding to the indexed columns\n",
        "encoders = [OneHotEncoder(inputCol=f\"{column}_indexed\", outputCol=f\"{column}_onehot\") for column in columns_to_encode]\n",
        "encoded = encoders[0].fit(indexed).transform(indexed)\n",
        "for encoder in encoders[1:]:\n",
        "    encoded = encoder.fit(encoded).transform(encoded)"
      ],
      "metadata": {
        "id": "IXk-SzEJlx7j"
      },
      "id": "IXk-SzEJlx7j",
      "execution_count": 88,
      "outputs": []
    },
    {
      "cell_type": "code",
      "source": [
        "# show the result\n",
        "encoded.show(5)"
      ],
      "metadata": {
        "colab": {
          "base_uri": "https://localhost:8080/"
        },
        "id": "6_bEIVPkoJnJ",
        "outputId": "96be38ca-e1db-4efc-d1dc-e6361b9b9e4f"
      },
      "id": "6_bEIVPkoJnJ",
      "execution_count": 89,
      "outputs": [
        {
          "output_type": "stream",
          "name": "stdout",
          "text": [
            "+-------+---+---------+--------------+--------------+-----------+-------+-------+----+------+-------------+----------+-------+-----------------+---------+-----------------+------------------+----------------------+-----------------+---------------+---------------+------------+--------------+---------------+------------------+----------------+-----------------+---------------------+----------------+--------------+--------------+-------------+-------------+--------------+-----------------+\n",
            "|    uid|age|age_group|    profession|marital_status|  education|default|housing|loan|gender|      balance|membership|charges|customer_contacts|attrition|age_group_indexed|profession_indexed|marital_status_indexed|education_indexed|default_indexed|housing_indexed|loan_indexed|gender_indexed|balance_indexed|membership_indexed|age_group_onehot|profession_onehot|marital_status_onehot|education_onehot|default_onehot|housing_onehot|  loan_onehot|gender_onehot|balance_onehot|membership_onehot|\n",
            "+-------+---+---------+--------------+--------------+-----------+-------+-------+----+------+-------------+----------+-------+-----------------+---------+-----------------+------------------+----------------------+-----------------+---------------+---------------+------------+--------------+---------------+------------------+----------------+-----------------+---------------------+----------------+--------------+--------------+-------------+-------------+--------------+-----------------+\n",
            "|1000001| 69|      60s|       retired|       married|high school|     no|     no|  no|female| $50k - $100k|      gold|     74|                5|        0|              4.0|               6.0|                   0.0|              1.0|            0.0|            1.0|         0.0|           0.0|            3.0|               2.0|   (8,[4],[1.0])|   (11,[6],[1.0])|        (2,[0],[1.0])|   (3,[1],[1.0])| (1,[0],[1.0])|     (1,[],[])|(1,[0],[1.0])|(1,[0],[1.0])| (4,[3],[1.0])|        (2,[],[])|\n",
            "|1000002| 46|      40s|    management|       married|high school|    yes|     no|  no|  male|  $10k - $50k|    silver|    149|                1|        0|              2.0|               0.0|                   0.0|              1.0|            1.0|            1.0|         0.0|           1.0|            1.0|               1.0|   (8,[2],[1.0])|   (11,[0],[1.0])|        (2,[0],[1.0])|   (3,[1],[1.0])|     (1,[],[])|     (1,[],[])|(1,[0],[1.0])|    (1,[],[])| (4,[1],[1.0])|    (2,[1],[1.0])|\n",
            "|1000003| 45|      40s|    management|       married|high school|     no|     no|  no|female|$100k - $250k|  platinum|     58|                5|        1|              2.0|               0.0|                   0.0|              1.0|            0.0|            1.0|         0.0|           0.0|            2.0|               0.0|   (8,[2],[1.0])|   (11,[0],[1.0])|        (2,[0],[1.0])|   (3,[1],[1.0])| (1,[0],[1.0])|     (1,[],[])|(1,[0],[1.0])|(1,[0],[1.0])| (4,[2],[1.0])|    (2,[0],[1.0])|\n",
            "|1000004| 54|      50s|administration|      divorced|   graduate|     no|    yes|  no|female|  $10k - $50k|    silver|    317|                4|        1|              1.0|               3.0|                   2.0|              0.0|            0.0|            0.0|         0.0|           0.0|            1.0|               1.0|   (8,[1],[1.0])|   (11,[3],[1.0])|            (2,[],[])|   (3,[0],[1.0])| (1,[0],[1.0])| (1,[0],[1.0])|(1,[0],[1.0])|(1,[0],[1.0])| (4,[1],[1.0])|    (2,[1],[1.0])|\n",
            "|1000005| 36|      30s|    management|        single|high school|     no|    yes|  no|  male| $50k - $100k|      gold|    139|                8|        0|              0.0|               0.0|                   1.0|              1.0|            0.0|            0.0|         0.0|           1.0|            3.0|               2.0|   (8,[0],[1.0])|   (11,[0],[1.0])|        (2,[1],[1.0])|   (3,[1],[1.0])| (1,[0],[1.0])| (1,[0],[1.0])|(1,[0],[1.0])|    (1,[],[])| (4,[3],[1.0])|        (2,[],[])|\n",
            "+-------+---+---------+--------------+--------------+-----------+-------+-------+----+------+-------------+----------+-------+-----------------+---------+-----------------+------------------+----------------------+-----------------+---------------+---------------+------------+--------------+---------------+------------------+----------------+-----------------+---------------------+----------------+--------------+--------------+-------------+-------------+--------------+-----------------+\n",
            "only showing top 5 rows\n",
            "\n"
          ]
        }
      ]
    },
    {
      "cell_type": "code",
      "source": [
        "# some insights into the relationship between features\n",
        "# observe the correlation\n",
        "\n",
        "# Generate a mask for the upper triangle\n",
        "corr = encoded.toPandas().corr()\n",
        "mask = np.triu(np.ones_like(corr, dtype=bool))\n",
        "\n",
        "# Set up the matplotlib figure\n",
        "f, ax = plt.subplots(figsize=(11, 9))\n",
        "\n",
        "# Generate a custom diverging colormap\n",
        "cmap = sns.diverging_palette(230, 20, as_cmap=True)\n",
        "\n",
        "# Draw the heatmap with the mask and correct aspect ratio\n",
        "sns.heatmap(corr, mask=mask, cmap=cmap, vmax=.3, center=0,\n",
        "            square=True, linewidths=.5, cbar_kws={\"shrink\": .5})"
      ],
      "metadata": {
        "colab": {
          "base_uri": "https://localhost:8080/",
          "height": 660
        },
        "id": "yFEI7rseeEa7",
        "outputId": "16f365db-dd75-480f-e110-f2e8d94dc7e7"
      },
      "id": "yFEI7rseeEa7",
      "execution_count": 90,
      "outputs": [
        {
          "output_type": "execute_result",
          "data": {
            "text/plain": [
              "<Axes: >"
            ]
          },
          "metadata": {},
          "execution_count": 90
        },
        {
          "output_type": "display_data",
          "data": {
            "text/plain": [
              "<Figure size 792x648 with 2 Axes>"
            ],
            "image/png": "[encoded data removed]"
          },
          "metadata": {
            "needs_background": "light"
          }
        }
      ]
    },
    {
      "cell_type": "markdown",
      "source": [
        "## Split the Spark Dataframe into Train and Test"
      ],
      "metadata": {
        "id": "KY7N2S8uIQ84"
      },
      "id": "KY7N2S8uIQ84"
    },
    {
      "cell_type": "code",
      "execution_count": 91,
      "id": "9c3a1f2e-f0f5-407b-980b-be199d923c4d",
      "metadata": {
        "tags": [],
        "id": "9c3a1f2e-f0f5-407b-980b-be199d923c4d"
      },
      "outputs": [],
      "source": [
        "from pyspark.ml.tuning import TrainValidationSplit"
      ]
    },
    {
      "cell_type": "code",
      "execution_count": 92,
      "id": "5b066c86-87b6-4157-bb4c-e05d3c0cd744",
      "metadata": {
        "tags": [],
        "id": "5b066c86-87b6-4157-bb4c-e05d3c0cd744"
      },
      "outputs": [],
      "source": [
        "train, test = encoded.randomSplit([0.7, 0.3], seed=42)"
      ]
    },
    {
      "cell_type": "code",
      "source": [
        "print(\"Train:\\n\")\n",
        "(train.groupBy(\"attrition\").count().withColumnRenamed(\"count\", \"count_train\").withColumn(\"percentage_train\", F.col(\"count_train\")/train.count())).show()\n",
        "print(\"\\n\")\n",
        "print(\"Test:\\n\")\n",
        "(test.groupBy(\"attrition\").count().withColumnRenamed(\"count\", \"count_test\").withColumn(\"percentage_test\", F.col(\"count_test\")/test.count())).show()"
      ],
      "metadata": {
        "colab": {
          "base_uri": "https://localhost:8080/"
        },
        "id": "ZkqEVUqVeO-s",
        "outputId": "8c3146bd-50c3-418e-e9d0-07418e9e3960"
      },
      "id": "ZkqEVUqVeO-s",
      "execution_count": 93,
      "outputs": [
        {
          "output_type": "stream",
          "name": "stdout",
          "text": [
            "Train:\n",
            "\n",
            "+---------+-----------+------------------+\n",
            "|attrition|count_train|  percentage_train|\n",
            "+---------+-----------+------------------+\n",
            "|        1|       7212|0.2274146249172264|\n",
            "|        0|      24501|0.7725853750827736|\n",
            "+---------+-----------+------------------+\n",
            "\n",
            "\n",
            "\n",
            "Test:\n",
            "\n",
            "+---------+----------+-------------------+\n",
            "|attrition|count_test|    percentage_test|\n",
            "+---------+----------+-------------------+\n",
            "|        1|      2988|0.22136612831530597|\n",
            "|        0|     10510|  0.778633871684694|\n",
            "+---------+----------+-------------------+\n",
            "\n"
          ]
        }
      ]
    },
    {
      "cell_type": "markdown",
      "source": [
        "## Feature Engineering"
      ],
      "metadata": {
        "id": "K9IdxSvbIaKd"
      },
      "id": "K9IdxSvbIaKd"
    },
    {
      "cell_type": "code",
      "source": [
        "from pyspark.ml import Pipeline\n",
        "from pyspark.ml.classification import LogisticRegression\n",
        "from pyspark.ml.evaluation import BinaryClassificationEvaluator\n",
        "from pyspark.ml.feature import HashingTF, Tokenizer\n",
        "from pyspark.ml.tuning import CrossValidator, ParamGridBuilder\n",
        "from pyspark.ml.evaluation import RegressionEvaluator\n",
        "from pyspark.ml.regression import LinearRegression"
      ],
      "metadata": {
        "id": "oRRyz-aMeYd4"
      },
      "id": "oRRyz-aMeYd4",
      "execution_count": 94,
      "outputs": []
    },
    {
      "cell_type": "code",
      "execution_count": 95,
      "id": "e2f10bfa-e862-4042-9772-7dfa1ca9d21a",
      "metadata": {
        "tags": [],
        "id": "e2f10bfa-e862-4042-9772-7dfa1ca9d21a"
      },
      "outputs": [],
      "source": [
        "target   = 'attrition'\n",
        "features = [f\"{column}_onehot\" for column in columns_to_encode]\n",
        "\n",
        "# encode the Label column (feature indexer)\n",
        "si = StringIndexer(inputCol='attrition', outputCol='label').fit(train)\n",
        "\n",
        "# pipeline requires i/p variables passed as a vector\n",
        "va  = VectorAssembler(inputCols=features, outputCol=\"features\")"
      ]
    },
    {
      "cell_type": "code",
      "execution_count": 96,
      "id": "8e3145e1-91df-4a45-92ef-0bf52e54f322",
      "metadata": {
        "tags": [],
        "id": "8e3145e1-91df-4a45-92ef-0bf52e54f322"
      },
      "outputs": [],
      "source": [
        "# run the algorithm\n",
        "rf = RandomForestRegressor(featuresCol=\"features\", labelCol='label', predictionCol=\"prediction\", \n",
        "                            maxDepth=5, maxBins=200, seed=42)\n",
        "\n",
        "# convert indexed labels to original labels\n",
        "lc = IndexToString(inputCol=\"prediction\", outputCol=\"predictedLabel\", labels=si.labels)"
      ]
    },
    {
      "cell_type": "markdown",
      "source": [
        "#### Model Building Pipeline"
      ],
      "metadata": {
        "id": "iTP5s6lAexry"
      },
      "id": "iTP5s6lAexry"
    },
    {
      "cell_type": "code",
      "execution_count": 97,
      "id": "e71d23b7-baf8-49a4-a2a1-7fc5d43b42bf",
      "metadata": {
        "tags": [],
        "id": "e71d23b7-baf8-49a4-a2a1-7fc5d43b42bf"
      },
      "outputs": [],
      "source": [
        "# build ML pipeline\n",
        "pipeline_run  = Pipeline(stages=[si, va, rf, lc])\n",
        "\n",
        "# pipeline model\n",
        "model_run = pipeline_run.fit(train)"
      ]
    },
    {
      "cell_type": "markdown",
      "source": [
        "## Make predictions"
      ],
      "metadata": {
        "id": "sxBV8EdMIrNW"
      },
      "id": "sxBV8EdMIrNW"
    },
    {
      "cell_type": "code",
      "execution_count": 98,
      "id": "3f384e30-74b3-4c21-869b-372311751822",
      "metadata": {
        "tags": [],
        "id": "3f384e30-74b3-4c21-869b-372311751822"
      },
      "outputs": [],
      "source": [
        "pred = model_run.transform(test)"
      ]
    },
    {
      "cell_type": "code",
      "source": [
        "pred.show(3)"
      ],
      "metadata": {
        "colab": {
          "base_uri": "https://localhost:8080/"
        },
        "id": "OSwEGW0oqele",
        "outputId": "881f1c5b-498b-4ce0-fde1-4c5870f497a6"
      },
      "id": "OSwEGW0oqele",
      "execution_count": 99,
      "outputs": [
        {
          "output_type": "stream",
          "name": "stdout",
          "text": [
            "+-------+---+---------+------------+--------------+-----------+-------+-------+----+------+-------------+----------+-------+-----------------+---------+-----------------+------------------+----------------------+-----------------+---------------+---------------+------------+--------------+---------------+------------------+----------------+-----------------+---------------------+----------------+--------------+--------------+-------------+-------------+--------------+-----------------+-----+--------------------+-------------------+--------------+\n",
            "|    uid|age|age_group|  profession|marital_status|  education|default|housing|loan|gender|      balance|membership|charges|customer_contacts|attrition|age_group_indexed|profession_indexed|marital_status_indexed|education_indexed|default_indexed|housing_indexed|loan_indexed|gender_indexed|balance_indexed|membership_indexed|age_group_onehot|profession_onehot|marital_status_onehot|education_onehot|default_onehot|housing_onehot|  loan_onehot|gender_onehot|balance_onehot|membership_onehot|label|            features|         prediction|predictedLabel|\n",
            "+-------+---+---------+------------+--------------+-----------+-------+-------+----+------+-------------+----------+-------+-----------------+---------+-----------------+------------------+----------------------+-----------------+---------------+---------------+------------+--------------+---------------+------------------+----------------+-----------------+---------------------+----------------+--------------+--------------+-------------+-------------+--------------+-----------------+-----+--------------------+-------------------+--------------+\n",
            "|1000003| 45|      40s|  management|       married|high school|     no|     no|  no|female|$100k - $250k|  platinum|     58|                5|        1|              2.0|               0.0|                   0.0|              1.0|            0.0|            1.0|         0.0|           0.0|            2.0|               0.0|   (8,[2],[1.0])|   (11,[0],[1.0])|        (2,[0],[1.0])|   (3,[1],[1.0])| (1,[0],[1.0])|     (1,[],[])|(1,[0],[1.0])|(1,[0],[1.0])| (4,[2],[1.0])|    (2,[0],[1.0])|  1.0|(34,[2,8,19,22,24...|0.09433553995913202|             0|\n",
            "|1000007| 54|      50s|  management|        single|high school|     no|    yes| yes|female|   Over $250k|  platinum|    128|                0|        0|              1.0|               0.0|                   1.0|              1.0|            0.0|            0.0|         1.0|           0.0|            0.0|               0.0|   (8,[1],[1.0])|   (11,[0],[1.0])|        (2,[1],[1.0])|   (3,[1],[1.0])| (1,[0],[1.0])| (1,[0],[1.0])|    (1,[],[])|(1,[0],[1.0])| (4,[0],[1.0])|    (2,[0],[1.0])|  0.0|(34,[1,8,20,22,24...|0.11072223159116508|             0|\n",
            "|1000009| 30|      30s|entrepreneur|       married|   graduate|     no|     no| yes|  male|$100k - $250k|  platinum|    126|                0|        0|              0.0|               8.0|                   0.0|              0.0|            0.0|            1.0|         1.0|           1.0|            2.0|               0.0|   (8,[0],[1.0])|   (11,[8],[1.0])|        (2,[0],[1.0])|   (3,[0],[1.0])| (1,[0],[1.0])|     (1,[],[])|    (1,[],[])|    (1,[],[])| (4,[2],[1.0])|    (2,[0],[1.0])|  0.0|(34,[0,16,19,21,2...|0.09225095154568252|             0|\n",
            "+-------+---+---------+------------+--------------+-----------+-------+-------+----+------+-------------+----------+-------+-----------------+---------+-----------------+------------------+----------------------+-----------------+---------------+---------------+------------+--------------+---------------+------------------+----------------+-----------------+---------------------+----------------+--------------+--------------+-------------+-------------+--------------+-----------------+-----+--------------------+-------------------+--------------+\n",
            "only showing top 3 rows\n",
            "\n"
          ]
        }
      ]
    },
    {
      "cell_type": "code",
      "execution_count": 100,
      "id": "e0b30911-78de-4082-9c3d-e896f590b1d3",
      "metadata": {
        "tags": [],
        "id": "e0b30911-78de-4082-9c3d-e896f590b1d3"
      },
      "outputs": [],
      "source": [
        "# generate results for the classifier\n",
        "preds=pred.select(pred[\"attrition\"],pred[\"predictedLabel\"],pred[\"prediction\"])"
      ]
    },
    {
      "cell_type": "code",
      "source": [
        "preds.show(3)"
      ],
      "metadata": {
        "colab": {
          "base_uri": "https://localhost:8080/"
        },
        "id": "1C_PMfc3rEQw",
        "outputId": "474a93e3-fbe2-42c0-eefb-bd2682f67879"
      },
      "id": "1C_PMfc3rEQw",
      "execution_count": 101,
      "outputs": [
        {
          "output_type": "stream",
          "name": "stdout",
          "text": [
            "+---------+--------------+-------------------+\n",
            "|attrition|predictedLabel|         prediction|\n",
            "+---------+--------------+-------------------+\n",
            "|        1|             0|0.09433553995913202|\n",
            "|        0|             0|0.11072223159116508|\n",
            "|        0|             0|0.09225095154568252|\n",
            "+---------+--------------+-------------------+\n",
            "only showing top 3 rows\n",
            "\n"
          ]
        }
      ]
    },
    {
      "cell_type": "code",
      "execution_count": 102,
      "id": "f0ef4a41-76cd-430c-812d-8ff73354b9a3",
      "metadata": {
        "tags": [],
        "id": "f0ef4a41-76cd-430c-812d-8ff73354b9a3"
      },
      "outputs": [],
      "source": [
        "# evaluate the result\n",
        "preds_final=preds.withColumn(\"attrition\",preds.attrition.cast('double'))"
      ]
    },
    {
      "cell_type": "code",
      "source": [
        "evaluator = BinaryClassificationEvaluator(rawPredictionCol=\"attrition\",labelCol=\"prediction\")\n",
        "auc=evaluator.evaluate(preds_final)\n",
        "print(\"AUC:\",auc)"
      ],
      "metadata": {
        "colab": {
          "base_uri": "https://localhost:8080/"
        },
        "id": "Ojf3Ot3mrTPR",
        "outputId": "3ad4cc6b-3fa6-4ebc-881a-1b139f72b283"
      },
      "id": "Ojf3Ot3mrTPR",
      "execution_count": 103,
      "outputs": [
        {
          "output_type": "stream",
          "name": "stdout",
          "text": [
            "AUC: 0.9566048349318859\n"
          ]
        }
      ]
    }
  ],
  "metadata": {
    "kernelspec": {
      "display_name": "Python 3 (ipykernel)",
      "language": "python",
      "name": "python3"
    },
    "language_info": {
      "codemirror_mode": {
        "name": "ipython",
        "version": 3
      },
      "file_extension": ".py",
      "mimetype": "text/x-python",
      "name": "python",
      "nbconvert_exporter": "python",
      "pygments_lexer": "ipython3",
      "version": "3.10.9"
    },
    "colab": {
      "provenance": []
    }
  },
  "nbformat": 4,
  "nbformat_minor": 5
}